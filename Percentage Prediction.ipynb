{
 "cells": [
  {
   "cell_type": "markdown",
   "id": "127dd6bc",
   "metadata": {},
   "source": [
    "# Task 1 - The Sparks Foundation\n",
    "# Ambuj Garg"
   ]
  },
  {
   "cell_type": "markdown",
   "id": "4a1242fd",
   "metadata": {},
   "source": [
    "# Percentage Prediction Problem - Regression - Supervised ML\n",
    "* Predict the Percentage of a student based on the number of study hours. Simple Linear Regression Problem with just two variables. What will be predicted score if a student studies for 9.25 Hours/per day."
   ]
  },
  {
   "cell_type": "markdown",
   "id": "eaef9fd0",
   "metadata": {},
   "source": [
    "**Importing Liberaries**"
   ]
  },
  {
   "cell_type": "code",
   "execution_count": 1,
   "id": "767254c7",
   "metadata": {},
   "outputs": [],
   "source": [
    "##Importing the required liberaries\n",
    "\n",
    "import numpy as np\n",
    "import pandas as pd\n",
    "import matplotlib.pyplot as plt\n",
    "import seaborn as sns\n",
    "import scipy.stats as stats\n",
    "from sklearn.model_selection import train_test_split\n",
    "from statsmodels.formula.api import ols\n",
    "from sklearn.linear_model import LinearRegression\n",
    "from sklearn.metrics import r2_score, mean_squared_error\n",
    "%matplotlib inline\n",
    "import warnings\n",
    "warnings.filterwarnings('ignore')"
   ]
  },
  {
   "cell_type": "markdown",
   "id": "540c469c",
   "metadata": {},
   "source": [
    "**Reading the Data from URL**"
   ]
  },
  {
   "cell_type": "code",
   "execution_count": 2,
   "id": "694d9584",
   "metadata": {},
   "outputs": [
    {
     "data": {
      "text/html": [
       "<div>\n",
       "<style scoped>\n",
       "    .dataframe tbody tr th:only-of-type {\n",
       "        vertical-align: middle;\n",
       "    }\n",
       "\n",
       "    .dataframe tbody tr th {\n",
       "        vertical-align: top;\n",
       "    }\n",
       "\n",
       "    .dataframe thead th {\n",
       "        text-align: right;\n",
       "    }\n",
       "</style>\n",
       "<table border=\"1\" class=\"dataframe\">\n",
       "  <thead>\n",
       "    <tr style=\"text-align: right;\">\n",
       "      <th></th>\n",
       "      <th>Hours</th>\n",
       "      <th>Scores</th>\n",
       "    </tr>\n",
       "  </thead>\n",
       "  <tbody>\n",
       "    <tr>\n",
       "      <th>0</th>\n",
       "      <td>2.5</td>\n",
       "      <td>21</td>\n",
       "    </tr>\n",
       "    <tr>\n",
       "      <th>1</th>\n",
       "      <td>5.1</td>\n",
       "      <td>47</td>\n",
       "    </tr>\n",
       "    <tr>\n",
       "      <th>2</th>\n",
       "      <td>3.2</td>\n",
       "      <td>27</td>\n",
       "    </tr>\n",
       "    <tr>\n",
       "      <th>3</th>\n",
       "      <td>8.5</td>\n",
       "      <td>75</td>\n",
       "    </tr>\n",
       "    <tr>\n",
       "      <th>4</th>\n",
       "      <td>3.5</td>\n",
       "      <td>30</td>\n",
       "    </tr>\n",
       "  </tbody>\n",
       "</table>\n",
       "</div>"
      ],
      "text/plain": [
       "   Hours  Scores\n",
       "0    2.5      21\n",
       "1    5.1      47\n",
       "2    3.2      27\n",
       "3    8.5      75\n",
       "4    3.5      30"
      ]
     },
     "execution_count": 2,
     "metadata": {},
     "output_type": "execute_result"
    }
   ],
   "source": [
    "#Reading the data from the csv file URL.\n",
    "\n",
    "df=pd.read_csv('https://raw.githubusercontent.com/AdiPersonalWorks/Random/master/student_scores%20-%20student_scores.csv')\n",
    "df.head()\n",
    "\n",
    "#There are two variables, the predictor variable is Hours, and the target variable is Scores."
   ]
  },
  {
   "cell_type": "markdown",
   "id": "f47ea202",
   "metadata": {},
   "source": [
    "**Basic Data Understanding**"
   ]
  },
  {
   "cell_type": "code",
   "execution_count": 3,
   "id": "16d6f82e",
   "metadata": {},
   "outputs": [
    {
     "data": {
      "text/plain": [
       "(25, 2)"
      ]
     },
     "execution_count": 3,
     "metadata": {},
     "output_type": "execute_result"
    }
   ],
   "source": [
    "df.shape\n",
    "\n",
    "#There are 25 records."
   ]
  },
  {
   "cell_type": "code",
   "execution_count": 4,
   "id": "6959d497",
   "metadata": {},
   "outputs": [
    {
     "name": "stdout",
     "output_type": "stream",
     "text": [
      "<class 'pandas.core.frame.DataFrame'>\n",
      "RangeIndex: 25 entries, 0 to 24\n",
      "Data columns (total 2 columns):\n",
      " #   Column  Non-Null Count  Dtype  \n",
      "---  ------  --------------  -----  \n",
      " 0   Hours   25 non-null     float64\n",
      " 1   Scores  25 non-null     int64  \n",
      "dtypes: float64(1), int64(1)\n",
      "memory usage: 528.0 bytes\n"
     ]
    }
   ],
   "source": [
    "df.info()\n",
    "\n",
    "#Both the variables are numeric."
   ]
  },
  {
   "cell_type": "code",
   "execution_count": 5,
   "id": "36b83999",
   "metadata": {},
   "outputs": [
    {
     "data": {
      "text/plain": [
       "Hours     0\n",
       "Scores    0\n",
       "dtype: int64"
      ]
     },
     "execution_count": 5,
     "metadata": {},
     "output_type": "execute_result"
    }
   ],
   "source": [
    "df.isnull().sum()\n",
    "\n",
    "#There are no null values."
   ]
  },
  {
   "cell_type": "code",
   "execution_count": 6,
   "id": "e6a86260",
   "metadata": {},
   "outputs": [
    {
     "data": {
      "text/html": [
       "<div>\n",
       "<style scoped>\n",
       "    .dataframe tbody tr th:only-of-type {\n",
       "        vertical-align: middle;\n",
       "    }\n",
       "\n",
       "    .dataframe tbody tr th {\n",
       "        vertical-align: top;\n",
       "    }\n",
       "\n",
       "    .dataframe thead th {\n",
       "        text-align: right;\n",
       "    }\n",
       "</style>\n",
       "<table border=\"1\" class=\"dataframe\">\n",
       "  <thead>\n",
       "    <tr style=\"text-align: right;\">\n",
       "      <th></th>\n",
       "      <th>Hours</th>\n",
       "      <th>Scores</th>\n",
       "    </tr>\n",
       "  </thead>\n",
       "  <tbody>\n",
       "    <tr>\n",
       "      <th>count</th>\n",
       "      <td>25.000000</td>\n",
       "      <td>25.000000</td>\n",
       "    </tr>\n",
       "    <tr>\n",
       "      <th>mean</th>\n",
       "      <td>5.012000</td>\n",
       "      <td>51.480000</td>\n",
       "    </tr>\n",
       "    <tr>\n",
       "      <th>std</th>\n",
       "      <td>2.525094</td>\n",
       "      <td>25.286887</td>\n",
       "    </tr>\n",
       "    <tr>\n",
       "      <th>min</th>\n",
       "      <td>1.100000</td>\n",
       "      <td>17.000000</td>\n",
       "    </tr>\n",
       "    <tr>\n",
       "      <th>25%</th>\n",
       "      <td>2.700000</td>\n",
       "      <td>30.000000</td>\n",
       "    </tr>\n",
       "    <tr>\n",
       "      <th>50%</th>\n",
       "      <td>4.800000</td>\n",
       "      <td>47.000000</td>\n",
       "    </tr>\n",
       "    <tr>\n",
       "      <th>75%</th>\n",
       "      <td>7.400000</td>\n",
       "      <td>75.000000</td>\n",
       "    </tr>\n",
       "    <tr>\n",
       "      <th>max</th>\n",
       "      <td>9.200000</td>\n",
       "      <td>95.000000</td>\n",
       "    </tr>\n",
       "  </tbody>\n",
       "</table>\n",
       "</div>"
      ],
      "text/plain": [
       "           Hours     Scores\n",
       "count  25.000000  25.000000\n",
       "mean    5.012000  51.480000\n",
       "std     2.525094  25.286887\n",
       "min     1.100000  17.000000\n",
       "25%     2.700000  30.000000\n",
       "50%     4.800000  47.000000\n",
       "75%     7.400000  75.000000\n",
       "max     9.200000  95.000000"
      ]
     },
     "execution_count": 6,
     "metadata": {},
     "output_type": "execute_result"
    }
   ],
   "source": [
    "#The statistical summary of the data\n",
    "\n",
    "df.describe()\n",
    "\n",
    "#The mean hours of study are 5 Hours with standard deviation of 2.5 hours.\n",
    "# The minimum hours are 1 hour, whereas the maximum hours are 9.2 hours.\n",
    "\n",
    "#The mean scores of students are 51.48% with standard deviation of 25.28%.\n",
    "#The minimum scores are 17% whereas the maximum scores are 95%."
   ]
  },
  {
   "cell_type": "markdown",
   "id": "b770fbea",
   "metadata": {},
   "source": [
    "**Data Visualization**"
   ]
  },
  {
   "cell_type": "code",
   "execution_count": 7,
   "id": "4837c5ec",
   "metadata": {
    "scrolled": true
   },
   "outputs": [
    {
     "data": {
      "image/png": "[encoded data removed]",
      "text/plain": [
       "<Figure size 576x216 with 2 Axes>"
      ]
     },
     "metadata": {
      "needs_background": "light"
     },
     "output_type": "display_data"
    }
   ],
   "source": [
    "#Distribution for both the variables\n",
    "plt.figure(figsize=(8,3))\n",
    "t=1\n",
    "for i in df.columns:\n",
    "    plt.subplot(1,2,t)\n",
    "    sns.distplot(df[i])\n",
    "    plt.title('%s Skewness:%.2f'%(i,df[i].skew()))\n",
    "    t+=1\n",
    "plt.tight_layout()\n",
    "plt.show()\n",
    "\n",
    "#The variables are normally distributed. \n",
    "#The maximum students study for around 3 hours. \n",
    "#The maximum students scored around 30 percent."
   ]
  },
  {
   "cell_type": "code",
   "execution_count": 8,
   "id": "c9b14dba",
   "metadata": {},
   "outputs": [
    {
     "data": {
      "image/png": "[encoded data removed]",
      "text/plain": [
       "<Figure size 576x216 with 2 Axes>"
      ]
     },
     "metadata": {
      "needs_background": "light"
     },
     "output_type": "display_data"
    }
   ],
   "source": [
    "#Distribution for both the variables\n",
    "plt.figure(figsize=(8,3))\n",
    "t=1\n",
    "for i in df.columns:\n",
    "    plt.subplot(1,2,t)\n",
    "    sns.boxplot(df[i])\n",
    "    plt.title(i)\n",
    "    t+=1\n",
    "plt.tight_layout()\n",
    "plt.show()\n",
    "\n",
    "#The variables are normally distributed. The median score are lower then mean scores.\n",
    "#there is no presence of outliers."
   ]
  },
  {
   "cell_type": "code",
   "execution_count": 9,
   "id": "456fdaef",
   "metadata": {
    "scrolled": true
   },
   "outputs": [
    {
     "data": {
      "image/png": "[encoded data removed]",
      "text/plain": [
       "<Figure size 432x288 with 1 Axes>"
      ]
     },
     "metadata": {
      "needs_background": "light"
     },
     "output_type": "display_data"
    }
   ],
   "source": [
    "#Visualization of variation in Scores with varying number of study hours.\n",
    "\n",
    "sns.scatterplot(df['Hours'],df['Scores'],color='darkgreen')\n",
    "plt.show()\n",
    "\n",
    "#The scores and hours seems to have a linear relation."
   ]
  },
  {
   "cell_type": "code",
   "execution_count": 10,
   "id": "c3dbbdd2",
   "metadata": {},
   "outputs": [
    {
     "data": {
      "image/png": "[encoded data removed]",
      "text/plain": [
       "<Figure size 432x288 with 2 Axes>"
      ]
     },
     "metadata": {
      "needs_background": "light"
     },
     "output_type": "display_data"
    }
   ],
   "source": [
    "#Measuring the strength of relation between the two variables.\n",
    "\n",
    "sns.heatmap(df.corr(),annot=True)\n",
    "plt.show()\n",
    "\n",
    "#The hours seems to be highly correlated to the scores,\n",
    "#that is the number of study hours highly impact the scores in a positive direction \n",
    "#that is whenever the number of study hours increase the scores increase as well."
   ]
  },
  {
   "cell_type": "code",
   "execution_count": 11,
   "id": "d05d166b",
   "metadata": {},
   "outputs": [],
   "source": [
    "#Not applying train test split as:\n",
    "# The test value given is 9.25 hours.\n",
    "\n",
    "#separating the predictor and target variable.\n",
    "x=df['Hours']\n",
    "y=df['Scores']"
   ]
  },
  {
   "cell_type": "markdown",
   "id": "09939546",
   "metadata": {},
   "source": [
    "**Base Model OLS with assumptions for Linear Regression**"
   ]
  },
  {
   "cell_type": "code",
   "execution_count": 12,
   "id": "7c86f301",
   "metadata": {},
   "outputs": [],
   "source": [
    "#Assumptions to check before applying Linear regression model\n",
    "\n",
    "#1. The target variable is numerical.\n",
    "#2. There is no multicollinearity present as there is only one predictor variable."
   ]
  },
  {
   "cell_type": "code",
   "execution_count": 13,
   "id": "caa7e844",
   "metadata": {
    "scrolled": false
   },
   "outputs": [
    {
     "data": {
      "text/html": [
       "<table class=\"simpletable\">\n",
       "<caption>OLS Regression Results</caption>\n",
       "<tr>\n",
       "  <th>Dep. Variable:</th>         <td>Scores</td>      <th>  R-squared:         </th> <td>   0.953</td>\n",
       "</tr>\n",
       "<tr>\n",
       "  <th>Model:</th>                   <td>OLS</td>       <th>  Adj. R-squared:    </th> <td>   0.951</td>\n",
       "</tr>\n",
       "<tr>\n",
       "  <th>Method:</th>             <td>Least Squares</td>  <th>  F-statistic:       </th> <td>   465.8</td>\n",
       "</tr>\n",
       "<tr>\n",
       "  <th>Date:</th>             <td>Fri, 09 Jun 2023</td> <th>  Prob (F-statistic):</th> <td>9.13e-17</td>\n",
       "</tr>\n",
       "<tr>\n",
       "  <th>Time:</th>                 <td>15:24:53</td>     <th>  Log-Likelihood:    </th> <td> -77.514</td>\n",
       "</tr>\n",
       "<tr>\n",
       "  <th>No. Observations:</th>      <td>    25</td>      <th>  AIC:               </th> <td>   159.0</td>\n",
       "</tr>\n",
       "<tr>\n",
       "  <th>Df Residuals:</th>          <td>    23</td>      <th>  BIC:               </th> <td>   161.5</td>\n",
       "</tr>\n",
       "<tr>\n",
       "  <th>Df Model:</th>              <td>     1</td>      <th>                     </th>     <td> </td>   \n",
       "</tr>\n",
       "<tr>\n",
       "  <th>Covariance Type:</th>      <td>nonrobust</td>    <th>                     </th>     <td> </td>   \n",
       "</tr>\n",
       "</table>\n",
       "<table class=\"simpletable\">\n",
       "<tr>\n",
       "      <td></td>         <th>coef</th>     <th>std err</th>      <th>t</th>      <th>P>|t|</th>  <th>[0.025</th>    <th>0.975]</th>  \n",
       "</tr>\n",
       "<tr>\n",
       "  <th>Intercept</th> <td>    2.4837</td> <td>    2.532</td> <td>    0.981</td> <td> 0.337</td> <td>   -2.753</td> <td>    7.721</td>\n",
       "</tr>\n",
       "<tr>\n",
       "  <th>Hours</th>     <td>    9.7758</td> <td>    0.453</td> <td>   21.583</td> <td> 0.000</td> <td>    8.839</td> <td>   10.713</td>\n",
       "</tr>\n",
       "</table>\n",
       "<table class=\"simpletable\">\n",
       "<tr>\n",
       "  <th>Omnibus:</th>       <td> 7.616</td> <th>  Durbin-Watson:     </th> <td>   1.460</td>\n",
       "</tr>\n",
       "<tr>\n",
       "  <th>Prob(Omnibus):</th> <td> 0.022</td> <th>  Jarque-Bera (JB):  </th> <td>   2.137</td>\n",
       "</tr>\n",
       "<tr>\n",
       "  <th>Skew:</th>          <td>-0.216</td> <th>  Prob(JB):          </th> <td>   0.343</td>\n",
       "</tr>\n",
       "<tr>\n",
       "  <th>Kurtosis:</th>      <td> 1.634</td> <th>  Cond. No.          </th> <td>    13.0</td>\n",
       "</tr>\n",
       "</table><br/><br/>Notes:<br/>[1] Standard Errors assume that the covariance matrix of the errors is correctly specified."
      ],
      "text/plain": [
       "<class 'statsmodels.iolib.summary.Summary'>\n",
       "\"\"\"\n",
       "                            OLS Regression Results                            \n",
       "==============================================================================\n",
       "Dep. Variable:                 Scores   R-squared:                       0.953\n",
       "Model:                            OLS   Adj. R-squared:                  0.951\n",
       "Method:                 Least Squares   F-statistic:                     465.8\n",
       "Date:                Fri, 09 Jun 2023   Prob (F-statistic):           9.13e-17\n",
       "Time:                        15:24:53   Log-Likelihood:                -77.514\n",
       "No. Observations:                  25   AIC:                             159.0\n",
       "Df Residuals:                      23   BIC:                             161.5\n",
       "Df Model:                           1                                         \n",
       "Covariance Type:            nonrobust                                         \n",
       "==============================================================================\n",
       "                 coef    std err          t      P>|t|      [0.025      0.975]\n",
       "------------------------------------------------------------------------------\n",
       "Intercept      2.4837      2.532      0.981      0.337      -2.753       7.721\n",
       "Hours          9.7758      0.453     21.583      0.000       8.839      10.713\n",
       "==============================================================================\n",
       "Omnibus:                        7.616   Durbin-Watson:                   1.460\n",
       "Prob(Omnibus):                  0.022   Jarque-Bera (JB):                2.137\n",
       "Skew:                          -0.216   Prob(JB):                        0.343\n",
       "Kurtosis:                       1.634   Cond. No.                         13.0\n",
       "==============================================================================\n",
       "\n",
       "Notes:\n",
       "[1] Standard Errors assume that the covariance matrix of the errors is correctly specified.\n",
       "\"\"\""
      ]
     },
     "execution_count": 13,
     "metadata": {},
     "output_type": "execute_result"
    }
   ],
   "source": [
    "#Base Model\n",
    "basemodel=ols('Scores~Hours',df).fit()\n",
    "basemodel.summary()\n",
    "\n",
    "#The R-squared and Adj R-squared have values of 0.953 and 0.951, \n",
    "#therefore the model is significant and the predictor is good as well.\n",
    "#The pvalue of f-stats indicate that the model is significant.\n",
    "#The pvalue for the predictor is 0, which indicates that the predictor is significant.\n",
    "#"
   ]
  },
  {
   "cell_type": "code",
   "execution_count": 14,
   "id": "fd6511d7",
   "metadata": {},
   "outputs": [
    {
     "name": "stdout",
     "output_type": "stream",
     "text": [
      "Pvalue:  0.11910586650135202\n"
     ]
    }
   ],
   "source": [
    "#Assumptions to be checked after the application of linear regression model::\n",
    "\n",
    "#1. Linearity Test::\n",
    "import statsmodels.api as sma\n",
    "\n",
    "#Ho:: The predictor andd target variables have linear relationship\n",
    "#Ha:: The predictor and target variables are not linearly related\n",
    "\n",
    "print('Pvalue: ',sma.stats.linear_rainbow(basemodel)[1])\n",
    "\n",
    "#The pvalue is greater then 0.05. Therefore we fail to reject the null hypothesis.\n",
    "#The linearity test is passed. The predictor and the target variables are linearly related."
   ]
  },
  {
   "cell_type": "code",
   "execution_count": 15,
   "id": "450b8059",
   "metadata": {},
   "outputs": [
    {
     "name": "stdout",
     "output_type": "stream",
     "text": [
      "1.4601573762506732\n"
     ]
    }
   ],
   "source": [
    "#2. Autocorrelation of Errors\n",
    "\n",
    "from statsmodels.stats.stattools import durbin_watson\n",
    "\n",
    "print(durbin_watson(basemodel.resid))\n",
    "\n",
    "#the value of durbin watson is silghlty less then 1.5. \n",
    "#There might be slight positive correlation among the errors.\n",
    "#Usually, it's due to missing key variable that autocorrelation occurs.\n",
    "#But we have just one variable. Therefore we will go ahead with this model."
   ]
  },
  {
   "cell_type": "code",
   "execution_count": 16,
   "id": "e2446a1f",
   "metadata": {},
   "outputs": [
    {
     "name": "stdout",
     "output_type": "stream",
     "text": [
      "2.9161186037127572e-06\n"
     ]
    }
   ],
   "source": [
    "#3. Homoscedasticity of error terms\n",
    "\n",
    "from statsmodels.stats.diagnostic import het_breuschpagan\n",
    "\n",
    "print(het_breuschpagan(basemodel.resid,df)[-1])\n",
    "\n",
    "#The pvalue is less than 0.05. Therefore the errors are heteroscedastic.\n",
    "#The data has heteroscedaticity in error."
   ]
  },
  {
   "cell_type": "markdown",
   "id": "0bb3d4e0",
   "metadata": {},
   "source": [
    "**Linear Model with Train Test Split**"
   ]
  },
  {
   "cell_type": "code",
   "execution_count": 17,
   "id": "53140811",
   "metadata": {
    "scrolled": false
   },
   "outputs": [
    {
     "name": "stdout",
     "output_type": "stream",
     "text": [
      "train R2:  0.9412182244264513\n",
      "test R2:  0.9712777006575188\n",
      "Train rmse:  5.847799208547898\n",
      "Test rmse:  4.249605359511046\n"
     ]
    }
   ],
   "source": [
    "#Testing the model using train test split\n",
    "\n",
    "xtr,xtest,ytr,ytest=train_test_split(x,y,test_size=0.3,random_state=90)\n",
    "\n",
    "lr=LinearRegression()\n",
    "model=lr.fit(pd.DataFrame(xtr),ytr)\n",
    "trpred=model.predict(pd.DataFrame(xtr))\n",
    "tpred=model.predict(pd.DataFrame(xtest))\n",
    "r2train=r2_score(ytr,trpred)\n",
    "r2test=r2_score(ytest,tpred)\n",
    "print('train R2: ',r2train)\n",
    "print('test R2: ',r2test)\n",
    "rmsetrain=np.sqrt(mean_squared_error(ytr,trpred))\n",
    "rmsetest=np.sqrt(mean_squared_error(ytest,tpred))\n",
    "print('Train rmse: ',rmsetrain)\n",
    "print('Test rmse: ',rmsetest)\n",
    "\n",
    "\n",
    "    \n",
    "#The R2 score of both the train and test is above 0.90. Therefore the model is good. \n",
    "#We have rmse value of 4.24% that is we can predict the scores with deviation of\n",
    "#just 4.24%."
   ]
  },
  {
   "cell_type": "markdown",
   "id": "2416fd04",
   "metadata": {},
   "source": [
    "**Final Model on whole data to predict on given Test Data**"
   ]
  },
  {
   "cell_type": "code",
   "execution_count": 18,
   "id": "c37c10b5",
   "metadata": {},
   "outputs": [
    {
     "name": "stdout",
     "output_type": "stream",
     "text": [
      "R2 Score for train:  0.9529481969048356\n"
     ]
    },
    {
     "data": {
      "text/plain": [
       "array([92.90985477])"
      ]
     },
     "execution_count": 18,
     "metadata": {},
     "output_type": "execute_result"
    }
   ],
   "source": [
    "#Applying The sklearn Linear regression Model on whole data and \n",
    "#predicting the scores for the test value\n",
    "\n",
    "xtest=pd.DataFrame(pd.Series(9.25))\n",
    "lr=LinearRegression()\n",
    "lrmodel=lr.fit(pd.DataFrame(x),y)\n",
    "trainpred=lrmodel.predict(pd.DataFrame(x))\n",
    "print('R2 Score for train: ',r2_score(y,trainpred))\n",
    "lrmodel.predict(xtest)"
   ]
  },
  {
   "cell_type": "markdown",
   "id": "6445b125",
   "metadata": {},
   "source": [
    "**Therefore the model predicted that the student studying 9.25 hours/per day would score around 92.90%**"
   ]
  },
  {
   "cell_type": "markdown",
   "id": "b817ea95",
   "metadata": {},
   "source": [
    "**-------------------------------------------------------------------Thankyou-----------------------------------------------------------------------------**"
   ]
  }
 ],
 "metadata": {
  "kernelspec": {
   "display_name": "Python 3 (ipykernel)",
   "language": "python",
   "name": "python3"
  },
  "language_info": {
   "codemirror_mode": {
    "name": "ipython",
    "version": 3
   },
   "file_extension": ".py",
   "mimetype": "text/x-python",
   "name": "python",
   "nbconvert_exporter": "python",
   "pygments_lexer": "ipython3",
   "version": "3.9.12"
  }
 },
 "nbformat": 4,
 "nbformat_minor": 5
}
